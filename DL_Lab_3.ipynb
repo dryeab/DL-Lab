{
  "nbformat": 4,
  "nbformat_minor": 0,
  "metadata": {
    "colab": {
      "provenance": []
    },
    "kernelspec": {
      "name": "python3",
      "display_name": "Python 3"
    },
    "language_info": {
      "name": "python"
    }
  },
  "cells": [
    {
      "cell_type": "code",
      "execution_count": 43,
      "metadata": {
        "id": "QpRVPR9-NFUo"
      },
      "outputs": [],
      "source": [
        "import numpy, torch"
      ]
    },
    {
      "cell_type": "markdown",
      "source": [
        "**Rectified Linear Activation Function**"
      ],
      "metadata": {
        "id": "jtmBpMuVSmMv"
      }
    },
    {
      "cell_type": "code",
      "source": [
        "class Activation_ReLU:\n",
        "  def forward(self, inputs):\n",
        "    return torch.max(inputs, torch.tensor(0))"
      ],
      "metadata": {
        "id": "zjCvvxJfNZfi"
      },
      "execution_count": 44,
      "outputs": []
    },
    {
      "cell_type": "markdown",
      "source": [
        "**Softmax Activation Function**"
      ],
      "metadata": {
        "id": "dvw87gDCS4t3"
      }
    },
    {
      "cell_type": "code",
      "source": [
        "class Activation_Softmax:\n",
        "  def forward(self, inputs):\n",
        "    inputs = torch.exp(inputs - torch.max(inputs, dim=1, keepdim=True).values)\n",
        "    sum = torch.sum(inputs, dim=1, keepdim=True)\n",
        "    return inputs / sum"
      ],
      "metadata": {
        "id": "Fnw55F5vNfuB"
      },
      "execution_count": 45,
      "outputs": []
    },
    {
      "cell_type": "markdown",
      "source": [
        "**Sigmoid Activation Function**"
      ],
      "metadata": {
        "id": "eSI9hX69TQG8"
      }
    },
    {
      "cell_type": "code",
      "source": [
        "class Activation_Sigmoid:\n",
        "  def forward(self, inputs):\n",
        "    return (1 / (1 + torch.exp(-inputs)))"
      ],
      "metadata": {
        "id": "FibDmPhGNm9I"
      },
      "execution_count": 46,
      "outputs": []
    },
    {
      "cell_type": "markdown",
      "source": [
        "**Categorical Cross-Entropy Loss**"
      ],
      "metadata": {
        "id": "Nvqej00gTUqo"
      }
    },
    {
      "cell_type": "code",
      "source": [
        "class Loss_CategorialCrossentropy:\n",
        "  def forward(self, y_pred, y_true):\n",
        "    return -torch.sum(y_true * torch.log(torch.clamp(y_pred, 1e-7, 1 - 1e-7)))"
      ],
      "metadata": {
        "id": "G1_XbcIbNrBP"
      },
      "execution_count": 47,
      "outputs": []
    },
    {
      "cell_type": "markdown",
      "source": [
        "**Dense Layer**"
      ],
      "metadata": {
        "id": "VPCYR0ebTpRV"
      }
    },
    {
      "cell_type": "code",
      "source": [
        "class DenseLayer:\n",
        "  def __init__(self, n_inputs, n_neurons):\n",
        "    self.weights = torch.rand(n_inputs, n_neurons)\n",
        "    self.bias = torch.zeros(n_neurons)\n",
        "\n",
        "  def forward(self, inputs, activation_function):\n",
        "    self.output = activation_function().forward(torch.matmul(inputs, self.weights) + self.bias)"
      ],
      "metadata": {
        "id": "SvJfJJ3gTq4P"
      },
      "execution_count": 48,
      "outputs": []
    },
    {
      "cell_type": "markdown",
      "source": [
        "**Using ReLU for hidden layers**"
      ],
      "metadata": {
        "id": "JwTFgFweY3zR"
      }
    },
    {
      "cell_type": "code",
      "source": [
        "# Seed\n",
        "torch.manual_seed(27)\n",
        "\n",
        "input_data = torch.rand((1, 4))\n",
        "\n",
        "layer1 = DenseLayer(4, 18)\n",
        "layer1.forward(input_data, Activation_ReLU)\n",
        "\n",
        "layer2 = DenseLayer(18, 18)\n",
        "layer2.forward(layer1.output, Activation_ReLU)\n",
        "\n",
        "layer3 = DenseLayer(18, 18)\n",
        "layer3.forward(layer2.output, Activation_ReLU)\n",
        "\n",
        "output_layer = DenseLayer(18, 3)\n",
        "output_layer.forward(layer3.output, Activation_Softmax)\n",
        "\n",
        "target = torch.tensor([1, 0, 1])\n",
        "\n",
        "loss_function = Loss_CategorialCrossentropy()\n",
        "loss = loss_function.forward(output_layer.output, target)\n",
        "accuracy = target == torch.argmax(output_layer.output, axis=1)\n",
        "\n",
        "print(\"Output\", output_layer.output)\n",
        "print(\"Loss:\", loss.item())\n",
        "print(\"Accuracy:\", accuracy)"
      ],
      "metadata": {
        "colab": {
          "base_uri": "https://localhost:8080/"
        },
        "id": "ojO8v9zXY5AR",
        "outputId": "7535b95a-5316-4f6f-da2e-7e5613568f92"
      },
      "execution_count": 49,
      "outputs": [
        {
          "output_type": "stream",
          "name": "stdout",
          "text": [
            "Output tensor([[1.0000e+00, 0.0000e+00, 6.6696e-41]])\n",
            "Loss: 16.11809539794922\n",
            "Accuracy: tensor([False,  True, False])\n"
          ]
        }
      ]
    },
    {
      "cell_type": "markdown",
      "source": [
        "**Using Sigmoid for hidden layers**"
      ],
      "metadata": {
        "id": "LWYWLWQ-c3kv"
      }
    },
    {
      "cell_type": "code",
      "source": [
        "# Seed\n",
        "torch.manual_seed(27)\n",
        "\n",
        "input_data = torch.rand((1, 4))\n",
        "\n",
        "layer1 = DenseLayer(4, 18)\n",
        "layer1.forward(input_data, Activation_Sigmoid)\n",
        "\n",
        "layer2 = DenseLayer(18, 18)\n",
        "layer2.forward(layer1.output, Activation_Sigmoid)\n",
        "\n",
        "layer3 = DenseLayer(18, 18)\n",
        "layer3.forward(layer2.output, Activation_Sigmoid)\n",
        "\n",
        "output_layer = DenseLayer(18, 3)\n",
        "output_layer.forward(layer3.output, Activation_Softmax)\n",
        "\n",
        "target = torch.tensor([1, 0, 1])\n",
        "\n",
        "loss_function = Loss_CategorialCrossentropy()\n",
        "loss = loss_function.forward(output_layer.output, target)\n",
        "accuracy = target == torch.argmax(output_layer.output, axis=1)\n",
        "\n",
        "print(\"Output\", output_layer.output)\n",
        "print(\"Loss:\", loss.item())\n",
        "print(\"Accuracy:\", accuracy)"
      ],
      "metadata": {
        "colab": {
          "base_uri": "https://localhost:8080/"
        },
        "id": "6BiGV2usc7EY",
        "outputId": "be9af04a-7e7f-4b3f-f31d-18cad564d40a"
      },
      "execution_count": 50,
      "outputs": [
        {
          "output_type": "stream",
          "name": "stdout",
          "text": [
            "Output tensor([[0.7369, 0.0620, 0.2011]])\n",
            "Loss: 1.9093847274780273\n",
            "Accuracy: tensor([False,  True, False])\n"
          ]
        }
      ]
    }
  ]
}