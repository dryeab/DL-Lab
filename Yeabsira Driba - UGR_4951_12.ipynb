{
 "cells": [
  {
   "cell_type": "markdown",
   "id": "127d5a49",
   "metadata": {},
   "source": [
    "## Name: Yeabsira Driba\n",
    "## ID: UGR/4951/12"
   ]
  },
  {
   "cell_type": "code",
   "execution_count": 1,
   "id": "10ca2e81",
   "metadata": {},
   "outputs": [],
   "source": [
    "import torch"
   ]
  },
  {
   "cell_type": "markdown",
   "id": "0b7acb1c",
   "metadata": {},
   "source": [
    "## Layers"
   ]
  },
  {
   "cell_type": "code",
   "execution_count": 2,
   "id": "38ce8f80",
   "metadata": {},
   "outputs": [],
   "source": [
    "class DenseLayer:\n",
    "  # Layer initialization\n",
    "  def __init__(self, n_inputs, n_neurons):\n",
    "    # Initialize weights and biases\n",
    "    self.weights = 0.01 * torch.rand(n_inputs, n_neurons)\n",
    "    self.biases = torch.zeros((1, n_neurons))\n",
    "\n",
    "  # Forward pass\n",
    "  def forward(self, inputs):\n",
    "    # Calculate output values from inputs, weights and biases\n",
    "    self.output = torch.matmul(inputs, self.weights) + self.biases"
   ]
  },
  {
   "cell_type": "markdown",
   "id": "f1843e7c",
   "metadata": {},
   "source": [
    "## Activation Functions"
   ]
  },
  {
   "cell_type": "markdown",
   "id": "ec7448f7",
   "metadata": {},
   "source": [
    "### ReLU"
   ]
  },
  {
   "cell_type": "code",
   "execution_count": 3,
   "id": "201c1bbb",
   "metadata": {},
   "outputs": [],
   "source": [
    "class Activation_ReLU:\n",
    "  # Forward pass\n",
    "  def forward(self, inputs):\n",
    "    self.output = torch.max(torch.tensor(0),inputs)"
   ]
  },
  {
   "cell_type": "markdown",
   "id": "c3ecdc81",
   "metadata": {},
   "source": [
    "### Sigmoid"
   ]
  },
  {
   "cell_type": "code",
   "execution_count": 4,
   "id": "35a35a28",
   "metadata": {},
   "outputs": [],
   "source": [
    "class Activation_Sigmoid:\n",
    "  # Forward pass\n",
    "  def forward(self, inputs):\n",
    "    self.output = 1 / (1 + torch.exp(inputs*-1))"
   ]
  },
  {
   "cell_type": "markdown",
   "id": "1ef9697c",
   "metadata": {},
   "source": [
    "## Loss"
   ]
  },
  {
   "cell_type": "markdown",
   "id": "b7cf6ad3",
   "metadata": {},
   "source": [
    "### Mean Squared Error"
   ]
  },
  {
   "cell_type": "code",
   "execution_count": 5,
   "id": "43a6f6d6",
   "metadata": {},
   "outputs": [],
   "source": [
    "class Loss_MeanSquareError():\n",
    "    # Forward pass\n",
    "    def forward(self, y_pred, y_true):\n",
    "        # Calculate the mean square error\n",
    "        mse_loss = torch.mean((y_pred - y_true)**2)\n",
    "        return mse_loss"
   ]
  },
  {
   "cell_type": "markdown",
   "id": "6cbbf8a2",
   "metadata": {},
   "source": [
    "## Accurace"
   ]
  },
  {
   "cell_type": "code",
   "execution_count": 6,
   "id": "b5e12450",
   "metadata": {},
   "outputs": [],
   "source": [
    "class Accuracy():\n",
    "  def calculate(self, y_pred, y_true):\n",
    "    predictions = torch.argmax(y_pred, axis=1)\n",
    "    if len(y_true.shape) == 2:\n",
    "      y_true = torch.argmax(y_true, axis=1)\n",
    "    accuracy = torch.mean((predictions == y_true).float())\n",
    "    return accuracy"
   ]
  },
  {
   "cell_type": "markdown",
   "id": "19d14751",
   "metadata": {},
   "source": [
    "## Forward"
   ]
  },
  {
   "cell_type": "code",
   "execution_count": 7,
   "id": "8e16083e",
   "metadata": {},
   "outputs": [],
   "source": [
    "X = torch.tensor([0.21, 0.66])\n",
    "Y = torch.tensor([0.7, 0.3])"
   ]
  },
  {
   "cell_type": "code",
   "execution_count": 8,
   "id": "9ed92cd4",
   "metadata": {},
   "outputs": [],
   "source": [
    "dense1 = DenseLayer(2, 2)\n",
    "activation1 = Activation_ReLU()\n",
    "output1 = DenseLayer(2, 2)\n",
    "activation2 = Activation_Sigmoid()"
   ]
  },
  {
   "cell_type": "code",
   "execution_count": 9,
   "id": "862cc85c",
   "metadata": {},
   "outputs": [
    {
     "data": {
      "text/plain": [
       "tensor([[0.5000, 0.5000]])"
      ]
     },
     "execution_count": 9,
     "metadata": {},
     "output_type": "execute_result"
    }
   ],
   "source": [
    "dense1.forward(X)\n",
    "activation1.forward(dense1.output)\n",
    "output1.forward(activation1.output)\n",
    "activation2.forward(output1.output)\n",
    "activation2.output"
   ]
  },
  {
   "cell_type": "markdown",
   "id": "2308b50c",
   "metadata": {},
   "source": [
    "### Back Prograpagation"
   ]
  },
  {
   "cell_type": "code",
   "execution_count": 10,
   "id": "ab88e080",
   "metadata": {},
   "outputs": [],
   "source": [
    "def back_prop_two_neuron(fp):\n",
    "  lr = torch.tensor(0.01)\n",
    "  back1 = (fp[0][0]-Y[0])*(1-fp[0][0])*fp[0][0]\n",
    "  back2 = (fp[0][1]-Y[1])*(1-fp[0][1])*fp[0][1]\n",
    "  output1.weights[0][0] -= lr * back1*activation1.output[0][0]\n",
    "  output1.weights[0][1] -= lr * back1*activation1.output[0][1]\n",
    "  output1.weights[1][0] -= lr * back2*activation1.output[0][0]\n",
    "  output1.weights[1][1] -= lr * back2*activation1.output[0][1]\n",
    "  output1.biases[0][0] -= lr * back1\n",
    "  output1.biases[0][1] -= lr * back2\n",
    "\n",
    "  dense1.weights[0][0] -= lr * (back1 * output1.weights[0][0] * X[0] + back2 * output1.weights[0][1] * X[0] ) if dense1.output[0][0] > 0 else 0\n",
    "  dense1.weights[0][1] -= lr * (back1 * output1.weights[0][0] * X[1] + back2 * output1.weights[0][1] * X[1] ) if dense1.output[0][0] > 0 else 0\n",
    "  dense1.weights[1][0] -= lr * (back1 * output1.weights[1][0] * X[0] + back2 * output1.weights[1][1] * X[0] ) if dense1.output[0][1] > 0 else 0\n",
    "  dense1.weights[1][1] -= lr * (back1 * output1.weights[1][0] * X[1] + back2 * output1.weights[1][1] * X[1] ) if dense1.output[0][1] > 0 else 0\n",
    "  dense1.biases[0][0] -= lr * (back1 * output1.weights[0][0] + back2 * output1.weights[0][1] ) if dense1.output[0][0] > 0 else 0\n",
    "  dense1.biases[0][1] -= lr * (back1 * output1.weights[1][0] + back2 * output1.weights[1][1] ) if dense1.output[0][1] > 0 else 0"
   ]
  },
  {
   "cell_type": "code",
   "execution_count": 11,
   "id": "afc46f4b",
   "metadata": {},
   "outputs": [
    {
     "name": "stdout",
     "output_type": "stream",
     "text": [
      "===============================================\n",
      "NEW UPDATED WEIGHTS\n",
      "===============================================\n",
      "\n",
      "LAYER 1 NEW WEIGHTS:\n",
      " tensor([[0.0080, 0.0021],\n",
      "        [0.0038, 0.0021]])\n",
      "\n",
      "LAYER 1 NEW BIAS: \n",
      " tensor([[-7.6248e-07,  1.2469e-06]])\n",
      "\n",
      "OUTPUT LAYER NEW WEIGHT: \n",
      " tensor([[0.0008, 0.0023],\n",
      "        [0.0055, 0.0030]])\n",
      "\n",
      "OUPUT LAYER NEW BIAS: \n",
      " tensor([[ 0.0005, -0.0005]])\n"
     ]
    }
   ],
   "source": [
    "print(\"===============================================\")\n",
    "print(\"NEW UPDATED WEIGHTS\")\n",
    "print(\"===============================================\\n\")\n",
    "\n",
    "back_prop_two_neuron(activation2.output)\n",
    "print(\"LAYER 1 NEW WEIGHTS:\\n\",dense1.weights)\n",
    "print(\"\\nLAYER 1 NEW BIAS: \\n\", dense1.biases)\n",
    "print(\"\\nOUTPUT LAYER NEW WEIGHT: \\n\", output1.weights)\n",
    "print(\"\\nOUPUT LAYER NEW BIAS: \\n\",output1.biases)\n"
   ]
  },
  {
   "cell_type": "code",
   "execution_count": null,
   "id": "dc13cab6",
   "metadata": {},
   "outputs": [],
   "source": []
  }
 ],
 "metadata": {
  "kernelspec": {
   "display_name": "Python 3 (ipykernel)",
   "language": "python",
   "name": "python3"
  },
  "language_info": {
   "codemirror_mode": {
    "name": "ipython",
    "version": 3
   },
   "file_extension": ".py",
   "mimetype": "text/x-python",
   "name": "python",
   "nbconvert_exporter": "python",
   "pygments_lexer": "ipython3",
   "version": "3.11.6"
  }
 },
 "nbformat": 4,
 "nbformat_minor": 5
}
