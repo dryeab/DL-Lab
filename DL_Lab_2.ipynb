{
  "nbformat": 4,
  "nbformat_minor": 0,
  "metadata": {
    "colab": {
      "provenance": []
    },
    "kernelspec": {
      "name": "python3",
      "display_name": "Python 3"
    },
    "language_info": {
      "name": "python"
    }
  },
  "cells": [
    {
      "cell_type": "code",
      "execution_count": 1,
      "metadata": {
        "id": "-D9H-XHOxKJP"
      },
      "outputs": [],
      "source": [
        "import torch"
      ]
    },
    {
      "cell_type": "code",
      "source": [
        "class DenseLayer:\n",
        "  def __init__(self, n_inputs, n_neurons):\n",
        "    self.weights = 0.01 * torch.rand(n_inputs, n_neurons)\n",
        "    self.bias = torch.zeros(n_neurons)\n",
        "\n",
        "  def forward(self, inputs):\n",
        "    self.output = torch.matmul(inputs, self.weights) + self.bias"
      ],
      "metadata": {
        "id": "jpcAlE_axNrw"
      },
      "execution_count": 2,
      "outputs": []
    },
    {
      "cell_type": "code",
      "source": [
        "inputs = torch.rand(32, 5)"
      ],
      "metadata": {
        "id": "MmNcl_pwxPOY"
      },
      "execution_count": 3,
      "outputs": []
    },
    {
      "cell_type": "code",
      "source": [
        "layer1 = DenseLayer(5, 16)\n",
        "layer1.forward(inputs)\n",
        "output1 = layer1.output"
      ],
      "metadata": {
        "id": "oGz5tX2GxSaI"
      },
      "execution_count": 4,
      "outputs": []
    },
    {
      "cell_type": "code",
      "source": [
        "layer2 = DenseLayer(16, 16)\n",
        "layer2.forward(output1)\n",
        "output2 = layer2.output"
      ],
      "metadata": {
        "id": "aS5Kl4jpxURQ"
      },
      "execution_count": 5,
      "outputs": []
    },
    {
      "cell_type": "code",
      "source": [
        "layer3 = DenseLayer(16, 16)\n",
        "layer3.forward(output2)\n",
        "output3 = layer3.output"
      ],
      "metadata": {
        "id": "_d3InYLUxWRZ"
      },
      "execution_count": 6,
      "outputs": []
    },
    {
      "cell_type": "code",
      "source": [
        "output_layer = DenseLayer(16, 5)\n",
        "output_layer.forward(output3)\n",
        "\n",
        "output = output_layer.output\n",
        "\n",
        "output.shape"
      ],
      "metadata": {
        "colab": {
          "base_uri": "https://localhost:8080/"
        },
        "id": "s6qwqHbNxX9d",
        "outputId": "dbffe27b-d7c6-4b3f-9218-fd1d37403842"
      },
      "execution_count": 7,
      "outputs": [
        {
          "output_type": "execute_result",
          "data": {
            "text/plain": [
              "torch.Size([32, 5])"
            ]
          },
          "metadata": {},
          "execution_count": 7
        }
      ]
    },
    {
      "cell_type": "code",
      "source": [],
      "metadata": {
        "id": "PXOUe19QxZJb"
      },
      "execution_count": null,
      "outputs": []
    }
  ]
}