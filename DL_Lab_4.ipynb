{
  "nbformat": 4,
  "nbformat_minor": 0,
  "metadata": {
    "colab": {
      "provenance": []
    },
    "kernelspec": {
      "name": "python3",
      "display_name": "Python 3"
    },
    "language_info": {
      "name": "python"
    }
  },
  "cells": [
    {
      "cell_type": "markdown",
      "source": [
        "**Name:** Yeabsira Driba   \n",
        "**ID:** UGR/4951/12"
      ],
      "metadata": {
        "id": "zhY82tm43add"
      }
    },
    {
      "cell_type": "code",
      "execution_count": 1,
      "metadata": {
        "id": "blA5esJtdFVP"
      },
      "outputs": [],
      "source": [
        "import torch"
      ]
    },
    {
      "cell_type": "markdown",
      "metadata": {
        "id": "rurwL-W2PoIN"
      },
      "source": [
        "## Layer"
      ]
    },
    {
      "cell_type": "code",
      "execution_count": 2,
      "metadata": {
        "id": "owY9mN1oPAal"
      },
      "outputs": [],
      "source": [
        "class DenseLayer:\n",
        "  def __init__(self, n_inputs, n_neurons):\n",
        "    self.weights = 0.01 * torch.rand(n_inputs, n_neurons)\n",
        "    self.biases = torch.zeros((1, n_neurons))\n",
        "\n",
        "  def forward(self, inputs):\n",
        "    self.output = torch.matmul(inputs, self.weights) + self.biases"
      ]
    },
    {
      "cell_type": "markdown",
      "metadata": {
        "id": "-CfScOYgaorz"
      },
      "source": [
        "### ReLU"
      ]
    },
    {
      "cell_type": "code",
      "execution_count": 4,
      "metadata": {
        "id": "6owCQofBP_iL"
      },
      "outputs": [],
      "source": [
        "class Activation_ReLU:\n",
        "  def forward(self, inputs):\n",
        "    self.output = torch.max(torch.tensor(0),inputs)"
      ]
    },
    {
      "cell_type": "markdown",
      "metadata": {
        "id": "_E-apHeQahmI"
      },
      "source": [
        "### Sigmoid"
      ]
    },
    {
      "cell_type": "code",
      "execution_count": 5,
      "metadata": {
        "id": "nlf-0k4OaffJ"
      },
      "outputs": [],
      "source": [
        "class Activation_Sigmoid:\n",
        "  def forward(self, inputs):\n",
        "    self.output = 1 / (1 + torch.exp(inputs*-1))"
      ]
    },
    {
      "cell_type": "markdown",
      "metadata": {
        "id": "JQrWxiXBax30"
      },
      "source": [
        "### Softmax"
      ]
    },
    {
      "cell_type": "code",
      "execution_count": 6,
      "metadata": {
        "id": "wF2Lf9ESTOOU"
      },
      "outputs": [],
      "source": [
        "class Activation_Softmax:\n",
        "  def forward(self, inputs):\n",
        "    exp_values = torch.exp(inputs - torch.max(inputs, axis=1, keepdim=True).values)\n",
        "    probabilities = exp_values / torch.sum(exp_values, axis=1, keepdim=True)\n",
        "    self.output = probabilities"
      ]
    },
    {
      "cell_type": "markdown",
      "source": [
        "###Linear Activation"
      ],
      "metadata": {
        "id": "FZobZhWlXjnk"
      }
    },
    {
      "cell_type": "code",
      "source": [
        "class LinearActivation:\n",
        "    def forward(self, x):\n",
        "        self.output = x"
      ],
      "metadata": {
        "id": "ukJ62SSQQar0"
      },
      "execution_count": 7,
      "outputs": []
    },
    {
      "cell_type": "code",
      "source": [
        "X = torch.tensor([0.2, 0.5])\n",
        "y = torch.tensor([0.04, 0.85])"
      ],
      "metadata": {
        "id": "BrPRRf4IXz4F"
      },
      "execution_count": 8,
      "outputs": []
    },
    {
      "cell_type": "markdown",
      "source": [
        "### 2 features in the input layer, 1 hidden layer with 4 neurons"
      ],
      "metadata": {
        "id": "KBKybSRkYAxs"
      }
    },
    {
      "cell_type": "code",
      "source": [
        "hidden_layer = DenseLayer(2, 4)"
      ],
      "metadata": {
        "id": "gjTXVC7vYHse"
      },
      "execution_count": 13,
      "outputs": []
    },
    {
      "cell_type": "markdown",
      "source": [
        "###Sigmoid activation"
      ],
      "metadata": {
        "id": "2Z76kUYTYU3B"
      }
    },
    {
      "cell_type": "code",
      "source": [
        "activation = Activation_Sigmoid()"
      ],
      "metadata": {
        "id": "2WYqHGIRYZdO"
      },
      "execution_count": 14,
      "outputs": []
    },
    {
      "cell_type": "markdown",
      "source": [
        "### Output layer"
      ],
      "metadata": {
        "id": "fyVpiqn2Yguw"
      }
    },
    {
      "cell_type": "code",
      "source": [
        "output_layer = DenseLayer(4, 2)"
      ],
      "metadata": {
        "id": "4AesRTTXYfov"
      },
      "execution_count": 16,
      "outputs": []
    },
    {
      "cell_type": "markdown",
      "source": [
        "###linear activation in the output layer."
      ],
      "metadata": {
        "id": "1ulukgiqYo9S"
      }
    },
    {
      "cell_type": "code",
      "source": [
        "activation2 = LinearActivation()"
      ],
      "metadata": {
        "id": "6Ufyn_xlYyzu"
      },
      "execution_count": 17,
      "outputs": []
    },
    {
      "cell_type": "markdown",
      "source": [
        "###Forward Pass"
      ],
      "metadata": {
        "id": "T7GJCto8Y8BP"
      }
    },
    {
      "cell_type": "code",
      "source": [
        "def forward_pass(X):\n",
        "  hidden_layer.forward(X)\n",
        "  activation.forward(hidden_layer.output)\n",
        "  output_layer.forward(activation.output)\n",
        "  activation2.forward(output_layer.output)\n",
        "  return activation2.output"
      ],
      "metadata": {
        "id": "xrWLupEMY66D"
      },
      "execution_count": 18,
      "outputs": []
    },
    {
      "cell_type": "markdown",
      "source": [
        "###Backward propagation"
      ],
      "metadata": {
        "id": "NZeYA-MaZJzw"
      }
    },
    {
      "cell_type": "code",
      "source": [
        "def back_prop(fp):\n",
        "    lr = torch.tensor(0.01)\n",
        "    back1 = (fp[0][0] - y[0]) * (1 - fp[0][0]) * fp[0][0]\n",
        "    back2 = (fp[0][1] - y[1]) * (1 - fp[0][1]) * fp[0][1]\n",
        "\n",
        "    output_layer.weights[0][0] -= lr * back1 * activation.output[0][0]\n",
        "    output_layer.weights[0][1] -= lr * back1 * activation.output[0][1]\n",
        "    output_layer.weights[1][0] -= lr * back2 * activation.output[0][0]\n",
        "    output_layer.weights[1][1] -= lr * back2 * activation.output[0][1]\n",
        "    output_layer.biases[0][0] -= lr * back1\n",
        "    output_layer.biases[0][1] -= lr * back2\n",
        "    for i in range(hidden_layer.weights.shape[0]):\n",
        "      for j in range(hidden_layer.weights.shape[1]):\n",
        "        hidden_layer.weights[i][j] -= lr * (\n",
        "            back1 * output_layer.weights[j][i] * X[i] +\n",
        "            back2 * output_layer.weights[j][i] * X[i]\n",
        "        ) * hidden_layer.output[0][j] * (1 - hidden_layer.output[0][j])\n",
        "    for j in range(hidden_layer.biases.shape[1]):\n",
        "      hidden_layer.biases[0][j] -= lr * (\n",
        "        back1 * output_layer.weights[j][0] +\n",
        "        back2 * output_layer.weights[j][1]\n",
        "    ) * hidden_layer.output[0][j] * (1 - hidden_layer.output[0][j])"
      ],
      "metadata": {
        "id": "5b35O6ItZN-_"
      },
      "execution_count": 19,
      "outputs": []
    },
    {
      "cell_type": "markdown",
      "source": [
        "###Error Calculation(MSE)"
      ],
      "metadata": {
        "id": "gz4TytVdZeeK"
      }
    },
    {
      "cell_type": "code",
      "source": [
        "def error_calculation(y_true, y_pred):\n",
        "  return torch.mean(0.5*(y_true - y_pred)**2)"
      ],
      "metadata": {
        "id": "L8Q4sOT6Zmpb"
      },
      "execution_count": 20,
      "outputs": []
    },
    {
      "cell_type": "markdown",
      "source": [
        "###Do the Forward and Backward propagation"
      ],
      "metadata": {
        "id": "GASjqJ9DZyiA"
      }
    },
    {
      "cell_type": "code",
      "source": [
        "loss = 0.00000001"
      ],
      "metadata": {
        "id": "-DvyBc38Zxuf"
      },
      "execution_count": 22,
      "outputs": []
    },
    {
      "cell_type": "code",
      "source": [
        "y_pred = forward_pass(X)\n",
        "err = error_calculation(y, y_pred)\n",
        "print(\"Initial loss:\", err)\n",
        "print(\"Initial prediction:\",y_pred)\n",
        "while err > loss:\n",
        "  back_prop(y_pred)\n",
        "  y_pred = forward_pass(X)\n",
        "  err = error_calculation(y, y_pred)\n",
        "print(\"Final loss:\", err)\n",
        "print(\"Final prediction:\",y_pred)\n",
        "print(\"Target value:\",y)"
      ],
      "metadata": {
        "colab": {
          "base_uri": "https://localhost:8080/"
        },
        "id": "NBm_Nqz23Kkf",
        "outputId": "fdf56b26-9203-45ce-9390-cfcf28533a0f"
      },
      "execution_count": 23,
      "outputs": [
        {
          "output_type": "stream",
          "name": "stdout",
          "text": [
            "Initial loss: tensor(9.9980e-09)\n",
            "Initial prediction: tensor([[0.0402, 0.8500]])\n",
            "Final loss: tensor(9.9980e-09)\n",
            "Final prediction: tensor([[0.0402, 0.8500]])\n",
            "Target value: tensor([0.0400, 0.8500])\n"
          ]
        }
      ]
    },
    {
      "cell_type": "code",
      "source": [],
      "metadata": {
        "id": "LTKohX8E3IdT"
      },
      "execution_count": null,
      "outputs": []
    }
  ]
}